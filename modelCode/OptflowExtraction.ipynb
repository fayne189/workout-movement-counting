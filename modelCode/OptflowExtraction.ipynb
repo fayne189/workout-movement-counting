{
 "cells": [
  {
   "cell_type": "code",
   "execution_count": 8,
   "metadata": {
    "colab": {
     "base_uri": "https://localhost:8080/",
     "height": 955
    },
    "colab_type": "code",
    "id": "AQUPF4fc_lbi",
    "outputId": "b814d068-0a66-4d1a-b3cf-79874f498d47"
   },
   "outputs": [
    {
     "name": "stdout",
     "output_type": "stream",
     "text": [
      "--2020-03-26 08:22:58--  https://getfile.dokpub.com/yandex/get/https://yadi.sk/d/nWHh53OXDGoYqw\n",
      "Resolving getfile.dokpub.com (getfile.dokpub.com)... 78.46.92.107\n",
      "Connecting to getfile.dokpub.com (getfile.dokpub.com)|78.46.92.107|:443... connected.\n",
      "HTTP request sent, awaiting response... 302 Moved Temporarily\n",
      "Location: https://downloader.disk.yandex.ru/disk/20aa228e1e2afd409d111ef0c634a59ca0d233fda3b471929a5031aff88f9c2b/5e7c9dab/W1bfCUTmXCWhdha9dKeAEG5xDU-aNMnIvjh7YdAotldF4XdPUrXlCbK91QoMyflaeRO5tpBNric5XXCsJdtCgg%3D%3D?uid=0&filename=workout-movement-counting.rar&disposition=attachment&hash=wOCQY8KOzBsDRRoxcwDmhn9UtyRehuo3P6fJL7dr8IzpjC6cgdyw8mk7tz7vBMSpq/J6bpmRyOJonT3VoXnDag%3D%3D%3A&limit=0&content_type=application%2Fx-rar&owner_uid=210071618&fsize=51397642&hid=8a1bf3ae2c0624b0fd012d68494bec26&media_type=compressed&tknv=v2 [following]\n",
      "--2020-03-26 08:22:59--  https://downloader.disk.yandex.ru/disk/20aa228e1e2afd409d111ef0c634a59ca0d233fda3b471929a5031aff88f9c2b/5e7c9dab/W1bfCUTmXCWhdha9dKeAEG5xDU-aNMnIvjh7YdAotldF4XdPUrXlCbK91QoMyflaeRO5tpBNric5XXCsJdtCgg%3D%3D?uid=0&filename=workout-movement-counting.rar&disposition=attachment&hash=wOCQY8KOzBsDRRoxcwDmhn9UtyRehuo3P6fJL7dr8IzpjC6cgdyw8mk7tz7vBMSpq/J6bpmRyOJonT3VoXnDag%3D%3D%3A&limit=0&content_type=application%2Fx-rar&owner_uid=210071618&fsize=51397642&hid=8a1bf3ae2c0624b0fd012d68494bec26&media_type=compressed&tknv=v2\n",
      "Resolving downloader.disk.yandex.ru (downloader.disk.yandex.ru)... 77.88.21.127, 2a02:6b8::2:127\n",
      "Connecting to downloader.disk.yandex.ru (downloader.disk.yandex.ru)|77.88.21.127|:443... connected.\n",
      "HTTP request sent, awaiting response... 302 Found\n",
      "Location: https://s12man.storage.yandex.net/rdisk/20aa228e1e2afd409d111ef0c634a59ca0d233fda3b471929a5031aff88f9c2b/5e7c9dab/W1bfCUTmXCWhdha9dKeAEG5xDU-aNMnIvjh7YdAotldF4XdPUrXlCbK91QoMyflaeRO5tpBNric5XXCsJdtCgg==?uid=0&filename=workout-movement-counting.rar&disposition=attachment&hash=wOCQY8KOzBsDRRoxcwDmhn9UtyRehuo3P6fJL7dr8IzpjC6cgdyw8mk7tz7vBMSpq/J6bpmRyOJonT3VoXnDag%3D%3D%3A&limit=0&content_type=application%2Fx-rar&owner_uid=210071618&fsize=51397642&hid=8a1bf3ae2c0624b0fd012d68494bec26&media_type=compressed&tknv=v2&rtoken=UVfn8Xbq3zjj&force_default=no&ycrid=na-ee8786196598b0ec0a5edde50b48df75-downloader9e&ts=5a1c0fcd280c0&s=b782832ae3745905cb638b8125c9929a09e4ac175ae97c367d1c13897072e4d6&pb=U2FsdGVkX18vOpH2AorSE0_H8eNpEMbt1Dv0a_odG2cT_yqnl9sn0HayGGESa9gyfFaE5T8JjIPps0guUN6ZFLkBsYUKwrk6LCv9XdPbx8s [following]\n",
      "--2020-03-26 08:23:00--  https://s12man.storage.yandex.net/rdisk/20aa228e1e2afd409d111ef0c634a59ca0d233fda3b471929a5031aff88f9c2b/5e7c9dab/W1bfCUTmXCWhdha9dKeAEG5xDU-aNMnIvjh7YdAotldF4XdPUrXlCbK91QoMyflaeRO5tpBNric5XXCsJdtCgg==?uid=0&filename=workout-movement-counting.rar&disposition=attachment&hash=wOCQY8KOzBsDRRoxcwDmhn9UtyRehuo3P6fJL7dr8IzpjC6cgdyw8mk7tz7vBMSpq/J6bpmRyOJonT3VoXnDag%3D%3D%3A&limit=0&content_type=application%2Fx-rar&owner_uid=210071618&fsize=51397642&hid=8a1bf3ae2c0624b0fd012d68494bec26&media_type=compressed&tknv=v2&rtoken=UVfn8Xbq3zjj&force_default=no&ycrid=na-ee8786196598b0ec0a5edde50b48df75-downloader9e&ts=5a1c0fcd280c0&s=b782832ae3745905cb638b8125c9929a09e4ac175ae97c367d1c13897072e4d6&pb=U2FsdGVkX18vOpH2AorSE0_H8eNpEMbt1Dv0a_odG2cT_yqnl9sn0HayGGESa9gyfFaE5T8JjIPps0guUN6ZFLkBsYUKwrk6LCv9XdPbx8s\n",
      "Resolving s12man.storage.yandex.net (s12man.storage.yandex.net)... 77.88.46.12, 2a02:6b8:c01:35:0:41af:d523:47ac\n",
      "Connecting to s12man.storage.yandex.net (s12man.storage.yandex.net)|77.88.46.12|:443... connected.\n",
      "HTTP request sent, awaiting response... 200 OK\n",
      "Length: 51397642 (49M) [application/x-rar]\n",
      "Saving to: ‘nWHh53OXDGoYqw’\n",
      "\n",
      "nWHh53OXDGoYqw      100%[===================>]  49.02M  10.1MB/s    in 7.0s    \n",
      "\n",
      "2020-03-26 08:23:08 (6.99 MB/s) - ‘nWHh53OXDGoYqw’ saved [51397642/51397642]\n",
      "\n",
      "\n",
      "UNRAR 5.50 freeware      Copyright (c) 1993-2017 Alexander Roshal\n",
      "\n",
      "\n",
      "Extracting from nWHh53OXDGoYqw\n",
      "\n",
      "\n",
      "Would you like to replace the existing file ./data/IMG_8266.MOV\n",
      "10156070 bytes, modified on 2020-03-11 15:23\n",
      "with a new one\n",
      "10156070 bytes, modified on 2020-03-11 15:23\n",
      "\n",
      "[Y]es, [N]o, [A]ll, n[E]ver, [R]ename, [Q]uit Y\n",
      "\n",
      "Extracting  ./data/IMG_8266.MOV                                          \b\b\b\b  0%\b\b\b\b  1%\b\b\b\b  2%\b\b\b\b  3%\b\b\b\b  4%\b\b\b\b  5%\b\b\b\b  6%\b\b\b\b  7%\b\b\b\b  8%\b\b\b\b  9%\b\b\b\b 10%\b\b\b\b 11%\b\b\b\b 12%\b\b\b\b 13%\b\b\b\b 14%\b\b\b\b 15%\b\b\b\b 16%\b\b\b\b 17%\b\b\b\b 18%\b\b\b\b 19%\b\b\b\b\b  OK \n",
      "\n",
      "Would you like to replace the existing file ./data/IMG_8267.MOV\n",
      "7033014 bytes, modified on 2020-03-11 15:27\n",
      "with a new one\n",
      "7033014 bytes, modified on 2020-03-11 15:27\n",
      "\n",
      "[Y]es, [N]o, [A]ll, n[E]ver, [R]ename, [Q]uit A\n",
      "\n",
      "Extracting  ./data/IMG_8267.MOV                                          \b\b\b\b 20%\b\b\b\b 21%\b\b\b\b 22%\b\b\b\b 23%\b\b\b\b 24%\b\b\b\b 25%\b\b\b\b 26%\b\b\b\b 27%\b\b\b\b 28%\b\b\b\b 29%\b\b\b\b 30%\b\b\b\b 31%\b\b\b\b 32%\b\b\b\b 33%\b\b\b\b\b  OK \n",
      "Extracting  ./data/IMG_8268.MOV                                          \b\b\b\b 33%\b\b\b\b 34%\b\b\b\b 35%\b\b\b\b 36%\b\b\b\b 37%\b\b\b\b 38%\b\b\b\b 39%\b\b\b\b 40%\b\b\b\b 41%\b\b\b\b 42%\b\b\b\b 43%\b\b\b\b\b  OK \n",
      "Extracting  ./data/pushes3.mp4                                           \b\b\b\b 43%\b\b\b\b 44%\b\b\b\b 45%\b\b\b\b 46%\b\b\b\b 47%\b\b\b\b 48%\b\b\b\b 49%\b\b\b\b 50%\b\b\b\b 51%\b\b\b\b 52%\b\b\b\b 53%\b\b\b\b 54%\b\b\b\b 55%\b\b\b\b 56%\b\b\b\b 57%\b\b\b\b 58%\b\b\b\b 59%\b\b\b\b 60%\b\b\b\b 61%\b\b\b\b 62%\b\b\b\b 63%\b\b\b\b 64%\b\b\b\b 65%\b\b\b\b 66%\b\b\b\b 67%\b\b\b\b 68%\b\b\b\b\b  OK \n",
      "Extracting  ./data/videoplayback.mp4                                     \b\b\b\b 68%\b\b\b\b 69%\b\b\b\b 70%\b\b\b\b 71%\b\b\b\b 72%\b\b\b\b 73%\b\b\b\b 74%\b\b\b\b 75%\b\b\b\b 76%\b\b\b\b 77%\b\b\b\b 78%\b\b\b\b 79%\b\b\b\b 80%\b\b\b\b 81%\b\b\b\b 82%\b\b\b\b 83%\b\b\b\b 84%\b\b\b\b 85%\b\b\b\b 86%\b\b\b\b 87%\b\b\b\b 88%\b\b\b\b 89%\b\b\b\b 90%\b\b\b\b 91%\b\b\b\b 92%\b\b\b\b 93%\b\b\b\b 94%\b\b\b\b 95%\b\b\b\b 96%\b\b\b\b 97%\b\b\b\b 98%\b\b\b\b 99%\b\b\b\b\b  OK \n",
      "Extracting  ./csvs/IMG_8266.csv                                          \b\b\b\b 99%\b\b\b\b\b  OK \n",
      "Extracting  ./csvs/IMG_8267.csv                                          \b\b\b\b 99%\b\b\b\b\b  OK \n",
      "Extracting  ./csvs/IMG_8268.csv                                          \b\b\b\b 99%\b\b\b\b\b  OK \n",
      "Extracting  ./csvs/pushes3.csv                                           \b\b\b\b 99%\b\b\b\b\b  OK \n",
      "Extracting  ./csvs/videoplayback.csv                                     \b\b\b\b 99%\b\b\b\b\b  OK \n",
      "All OK\n"
     ]
    }
   ],
   "source": [
    "! wget https://getfile.dokpub.com/yandex/get/https://yadi.sk/d/nWHh53OXDGoYqw\n",
    "! unrar x nWHh53OXDGoYqw ./\n",
    "! sudo rm nWHh53OXDGoYqw"
   ]
  },
  {
   "cell_type": "code",
   "execution_count": 2,
   "metadata": {
    "colab": {
     "base_uri": "https://localhost:8080/",
     "height": 647
    },
    "colab_type": "code",
    "id": "xqwu7EuvAHy-",
    "outputId": "cb9fa422-bcec-4536-fe02-e4eacf2dd53d"
   },
   "outputs": [
    {
     "name": "stdout",
     "output_type": "stream",
     "text": [
      "Collecting pyoptflow\n",
      "  Downloading https://files.pythonhosted.org/packages/17/47/2bdce1f41e03502a5a5d05c81ac6a73fb52956c4842200fd89ab0d9a2954/pyoptflow-1.3.1.tar.gz\n",
      "Requirement already satisfied: imageio in /usr/local/lib/python3.6/dist-packages (from pyoptflow) (2.4.1)\n",
      "Requirement already satisfied: scipy in /usr/local/lib/python3.6/dist-packages (from pyoptflow) (1.4.1)\n",
      "Requirement already satisfied: numpy in /usr/local/lib/python3.6/dist-packages (from pyoptflow) (1.18.2)\n",
      "Requirement already satisfied: pillow in /usr/local/lib/python3.6/dist-packages (from imageio->pyoptflow) (7.0.0)\n",
      "Building wheels for collected packages: pyoptflow\n",
      "  Building wheel for pyoptflow (setup.py) ... \u001b[?25l\u001b[?25hdone\n",
      "  Created wheel for pyoptflow: filename=pyoptflow-1.3.1-cp36-none-any.whl size=7335 sha256=d9d9cd1c5a0e90d8d3a571fa1764e4f5ea81f1596581027ece8ef4bf5364bd8d\n",
      "  Stored in directory: /root/.cache/pip/wheels/e5/f2/3a/23d29693cf27ebc404cf0ffffc31b5b1226b4b8a369021be7e\n",
      "Successfully built pyoptflow\n",
      "Installing collected packages: pyoptflow\n",
      "Successfully installed pyoptflow-1.3.1\n",
      "Collecting opencv-python\n",
      "\u001b[?25l  Downloading https://files.pythonhosted.org/packages/68/c5/09a1b82f940805c2cee30c3c42786651edcfd0710a0283eb09c6bc959340/opencv_python-4.2.0.32-cp36-cp36m-manylinux1_x86_64.whl (28.2MB)\n",
      "\u001b[K     |████████████████████████████████| 28.2MB 110kB/s \n",
      "\u001b[?25hCollecting numpy>=1.11.3\n",
      "\u001b[?25l  Downloading https://files.pythonhosted.org/packages/07/08/a549ba8b061005bb629b76adc000f3caaaf881028b963c2e18f811c6edc1/numpy-1.18.2-cp36-cp36m-manylinux1_x86_64.whl (20.2MB)\n",
      "\u001b[K     |████████████████████████████████| 20.2MB 155kB/s \n",
      "\u001b[31mERROR: tensorflow-model-optimization 0.2.1 requires enum34~=1.1, which is not installed.\u001b[0m\n",
      "\u001b[31mERROR: tensorflow-federated 0.12.0 has requirement tensorflow~=2.1.0, but you'll have tensorflow 1.15.0 which is incompatible.\u001b[0m\n",
      "\u001b[31mERROR: tensorflow-federated 0.12.0 has requirement tensorflow-addons~=0.7.0, but you'll have tensorflow-addons 0.8.3 which is incompatible.\u001b[0m\n",
      "\u001b[31mERROR: datascience 0.10.6 has requirement folium==0.2.1, but you'll have folium 0.8.3 which is incompatible.\u001b[0m\n",
      "\u001b[31mERROR: albumentations 0.1.12 has requirement imgaug<0.2.7,>=0.2.5, but you'll have imgaug 0.2.9 which is incompatible.\u001b[0m\n",
      "\u001b[?25hInstalling collected packages: numpy, opencv-python\n",
      "  Found existing installation: numpy 1.18.2\n",
      "    Uninstalling numpy-1.18.2:\n",
      "      Successfully uninstalled numpy-1.18.2\n",
      "  Found existing installation: opencv-python 4.1.2.30\n",
      "    Uninstalling opencv-python-4.1.2.30:\n",
      "      Successfully uninstalled opencv-python-4.1.2.30\n",
      "Successfully installed numpy-1.18.2 opencv-python-4.2.0.32\n"
     ]
    },
    {
     "data": {
      "application/vnd.colab-display-data+json": {
       "pip_warning": {
        "packages": [
         "numpy"
        ]
       }
      }
     },
     "metadata": {
      "tags": []
     },
     "output_type": "display_data"
    }
   ],
   "source": [
    "! pip install pyoptflow\n",
    "! pip install opencv-python --force-reinstall"
   ]
  },
  {
   "cell_type": "code",
   "execution_count": 0,
   "metadata": {
    "colab": {},
    "colab_type": "code",
    "id": "dD_u2yXD_viV"
   },
   "outputs": [],
   "source": [
    "import cv2\n",
    "import numpy as np\n",
    "import time\n",
    "import argparse\n",
    "\n",
    "import matplotlib.pyplot as plt\n",
    "import shutil\n",
    "import os\n",
    "from pyoptflow import LucasKanade\n",
    "\n",
    "from torchvision import models\n",
    "import torchvision.transforms as transforms\n",
    "from torch import nn\n",
    "\n",
    "from tqdm import tqdm_notebook\n",
    "\n",
    "from sklearn.decomposition import PCA\n",
    "from sklearn.cluster import KMeans, DBSCAN\n",
    "from sklearn.manifold import TSNE\n",
    "import pandas as pd\n",
    "\n",
    "import subprocess\n",
    "\n",
    "%matplotlib inline"
   ]
  },
  {
   "cell_type": "code",
   "execution_count": 0,
   "metadata": {
    "colab": {},
    "colab_type": "code",
    "id": "MugHPAs0W2Yo"
   },
   "outputs": [],
   "source": [
    "!pip install -U -q PyDrive\n",
    "from pydrive.auth import GoogleAuth\n",
    "from pydrive.drive import GoogleDrive\n",
    "from google.colab import auth\n",
    "from google.colab import files\n",
    "from oauth2client.client import GoogleCredentials\n",
    "\n",
    "auth.authenticate_user()\n",
    "gauth = GoogleAuth()\n",
    "gauth.credentials = GoogleCredentials.get_application_default()\n",
    "drive = GoogleDrive(gauth)"
   ]
  },
  {
   "cell_type": "code",
   "execution_count": 5,
   "metadata": {
    "colab": {
     "base_uri": "https://localhost:8080/",
     "height": 187
    },
    "colab_type": "code",
    "id": "8Rjv0b2rW49A",
    "outputId": "9ca496fc-ee9c-4069-a346-ed19354856d6"
   },
   "outputs": [
    {
     "name": "stdout",
     "output_type": "stream",
     "text": [
      "title: flows, id: 1GMYGRY-_Yko0rHwbb5IcsFmWsT-sGcf9\n",
      "title: OptFlowIMG_8266.zip, id: 1_A3QoeSCyOufiggMwim2mnE66FddfRqY\n",
      "title: Копия Coronavirus – When Should You Close Your Office?, id: 10j1RmoFWu49jNHZOxTN9f_-nVSak7QZi6TMKXyScJ7k\n",
      "title: Colab Notebooks, id: 1Cv1snHApMH6C596RWR4hImx5WhOeWvRg\n",
      "title: Копия Таблица для планирования бюджета, id: 1Hy2U7EkETpEVGblUUunh6PP-Z0H31Weoclb4Mv-4u9g\n",
      "title: Ставки_ДобрыйЧеловек, id: 1PKkK_bwQs_r2gVj7sv63GZg2IGTkQ3WBx4tjoSe_NCw\n",
      "title: Реклместа, id: 1MA9lzAyHH8CEyRToBn5R6OAgNLh2kxgGCPc46EyCIis\n",
      "title: graph description, id: 1cWSAyJ8EwyZbYH1PTVod3RVYrr-uRYSY9mxR6sJwEK8\n",
      "title: wordtable, id: 1GG_0BpTqMA6NsteCYS-8pc_OAmNzvo0ZqUwz9hJ9TyE\n",
      "title: график мест, id: 15Tc-5cVFEWVeBrQk4zKrVa03n5APgOBLSxMfH6hx_58\n"
     ]
    }
   ],
   "source": [
    "file_list = drive.ListFile({'q': \"'root' in parents\"}).GetList()\n",
    "for file1 in file_list:\n",
    "  print('title: %s, id: %s' % (file1['title'], file1['id']))"
   ]
  },
  {
   "cell_type": "code",
   "execution_count": 0,
   "metadata": {
    "colab": {},
    "colab_type": "code",
    "id": "YDTjZkEXAGsL"
   },
   "outputs": [],
   "source": [
    "def captureOpticalFlow(fileType, file, takeFrame = 5, folder_id = '1GMYGRY-_Yko0rHwbb5IcsFmWsT-sGcf9'):\n",
    "\n",
    "    folders = {'flow': f'{fileType}/',\n",
    "              'frames': f'Frames{fileType}/'}\n",
    "\n",
    "    shutil.rmtree(folders['flow'], ignore_errors=True)\n",
    "    shutil.rmtree(folders['frames'], ignore_errors=True)\n",
    "    os.mkdir(folders['flow'])\n",
    "    os.mkdir(folders['frames'])\n",
    "\n",
    "    cap = cv2.VideoCapture(file)\n",
    "    IMG_SIZE = (128, 128)\n",
    "\n",
    "    ret, first_frame = cap.read()\n",
    "    first_frame = cv2.resize(first_frame, IMG_SIZE)\n",
    "\n",
    "    prev_gray = cv2.cvtColor(first_frame, cv2.COLOR_BGR2GRAY)\n",
    "    mask = np.zeros_like(first_frame)\n",
    "    mask[..., 1] = 255\n",
    "\n",
    "    i = 0\n",
    "    flow = []\n",
    "    while cap.isOpened():\n",
    "    try:\n",
    "        ret, frame = cap.read()\n",
    "        frame = cv2.resize(frame, IMG_SIZE)\n",
    "        gray = cv2.cvtColor(frame, cv2.COLOR_BGR2GRAY)\n",
    "\n",
    "        # Calculates dense optical flow by Farneback method\n",
    "        # https://docs.opencv.org/3.0-beta/modules/video/doc/motion_analysis_and_object_tracking.html#calcopticalflowfarneback\n",
    "        if len(flow) == 0:\n",
    "        flow = cv2.calcOpticalFlowFarneback(prev_gray, gray, None, 0.5, 3, 100, 3, 7, 1.1, 0)\n",
    "        else:\n",
    "        flow = cv2.calcOpticalFlowFarneback(prev_gray, gray, flow, 0.5, 3, 100, 3, 7, 1.1, 0)\n",
    "\n",
    "        # Computes the magnitude and angle of the 2D vectors\n",
    "        magnitude, angle = cv2.cartToPolar(flow[..., 0], flow[..., 1])\n",
    "\n",
    "        # Sets image hue according to the optical flow direction\n",
    "        mask[..., 0] = angle * 180 / np.pi / 2\n",
    "\n",
    "        # Sets image value according to the optical flow magnitude (normalized)\n",
    "        mask[..., 2] = cv2.normalize(magnitude, None, 0, 255, cv2.NORM_MINMAX)\n",
    "\n",
    "        # Converts HSV to RGB (BGR) color representation\n",
    "        rgb = cv2.cvtColor(mask, cv2.COLOR_HSV2BGR)\n",
    "\n",
    "        #cv.imshow(\"dense optical flow\", rgb)\n",
    "        if i % takeFrame == 0:\n",
    "            cv2.imwrite(f'''{folders['flow']}/{i}.png''', rgb)\n",
    "            #cv2.imwrite(f'''{folders['frames']}/{i}.png''', frame)\n",
    "        i+=1\n",
    "        prev_gray = gray\n",
    "        # Frames are read by intervals of 1 millisecond. The programs breaks out of the while loop when the user presses the 'q' key\n",
    "        except Exception as e:\n",
    "            print(f'Programm run into {e}')\n",
    "            process = subprocess.run(['zip', '-r', folders['flow'].split('/')[0] + '.zip', folders['flow']]) \n",
    "\n",
    "            file = drive.CreateFile({'parents':[{u'id': folder_id}]}) \n",
    "            file.SetContentFile(folders['flow'].split('/')[0] + '.zip')\n",
    "            file.Upload()\n",
    "\n",
    "            process = subprocess.run(['rm', '-r', folders['flow'] + '.zip', folders['flow'], folders['frames']]) \n",
    "            break"
   ]
  },
  {
   "cell_type": "code",
   "execution_count": 9,
   "metadata": {
    "colab": {
     "base_uri": "https://localhost:8080/",
     "height": 417,
     "referenced_widgets": [
      "9360ac2edb0743db92b0c6c17daa74ae",
      "876d009743f84b45b618d755ef7e5c01",
      "a7acf6f46e224949a642c27437b24b80",
      "8663bf19b5c745be957d053556ca7d54",
      "e355f59726d2411199697116afbbffd3",
      "afbbabaded58439d91d7c0ad4436f975",
      "52cf8fcb91164fc9b79b8a2dffe6b8d1",
      "f6ea77e6dc0f4e8285b816b51fb8b97f"
     ]
    },
    "colab_type": "code",
    "id": "UEGGje4lATMI",
    "outputId": "1ca715e6-be16-441b-90b9-9d6366ae1740"
   },
   "outputs": [
    {
     "name": "stderr",
     "output_type": "stream",
     "text": [
      "/usr/local/lib/python3.6/dist-packages/ipykernel_launcher.py:1: TqdmDeprecationWarning: This function will be removed in tqdm==5.0.0\n",
      "Please use `tqdm.notebook.tqdm` instead of `tqdm.tqdm_notebook`\n",
      "  \"\"\"Entry point for launching an IPython kernel.\n"
     ]
    },
    {
     "data": {
      "application/vnd.jupyter.widget-view+json": {
       "model_id": "9360ac2edb0743db92b0c6c17daa74ae",
       "version_major": 2,
       "version_minor": 0
      },
      "text/plain": [
       "HBox(children=(IntProgress(value=0, max=5), HTML(value='')))"
      ]
     },
     "metadata": {
      "tags": []
     },
     "output_type": "display_data"
    },
    {
     "name": "stdout",
     "output_type": "stream",
     "text": [
      "\n"
     ]
    },
    {
     "ename": "KeyboardInterrupt",
     "evalue": "ignored",
     "output_type": "error",
     "traceback": [
      "\u001b[0;31m---------------------------------------------------------------------------\u001b[0m",
      "\u001b[0;31mKeyboardInterrupt\u001b[0m                         Traceback (most recent call last)",
      "\u001b[0;32m<ipython-input-9-438ab094a11e>\u001b[0m in \u001b[0;36m<module>\u001b[0;34m()\u001b[0m\n\u001b[1;32m      1\u001b[0m \u001b[0;32mfor\u001b[0m \u001b[0mvideo\u001b[0m \u001b[0;32min\u001b[0m \u001b[0mtqdm_notebook\u001b[0m\u001b[0;34m(\u001b[0m\u001b[0mos\u001b[0m\u001b[0;34m.\u001b[0m\u001b[0mlistdir\u001b[0m\u001b[0;34m(\u001b[0m\u001b[0;34m'data/'\u001b[0m\u001b[0;34m)\u001b[0m\u001b[0;34m)\u001b[0m\u001b[0;34m:\u001b[0m\u001b[0;34m\u001b[0m\u001b[0;34m\u001b[0m\u001b[0m\n\u001b[0;32m----> 2\u001b[0;31m   \u001b[0mcaptureOpticalFlow\u001b[0m\u001b[0;34m(\u001b[0m\u001b[0mvideo\u001b[0m\u001b[0;34m.\u001b[0m\u001b[0msplit\u001b[0m\u001b[0;34m(\u001b[0m\u001b[0;34m'.'\u001b[0m\u001b[0;34m)\u001b[0m\u001b[0;34m[\u001b[0m\u001b[0;36m0\u001b[0m\u001b[0;34m]\u001b[0m\u001b[0;34m,\u001b[0m \u001b[0;34m'data/'\u001b[0m \u001b[0;34m+\u001b[0m \u001b[0mvideo\u001b[0m\u001b[0;34m)\u001b[0m\u001b[0;34m\u001b[0m\u001b[0;34m\u001b[0m\u001b[0m\n\u001b[0m\u001b[1;32m      3\u001b[0m \u001b[0mget_ipython\u001b[0m\u001b[0;34m(\u001b[0m\u001b[0;34m)\u001b[0m\u001b[0;34m.\u001b[0m\u001b[0msystem\u001b[0m\u001b[0;34m(\u001b[0m\u001b[0;34m' sudo rm -r Frames*'\u001b[0m\u001b[0;34m)\u001b[0m\u001b[0;34m\u001b[0m\u001b[0;34m\u001b[0m\u001b[0m\n",
      "\u001b[0;32m<ipython-input-6-2eb5fa9b7342>\u001b[0m in \u001b[0;36mcaptureOpticalFlow\u001b[0;34m(fileType, file, takeFrame, folder_id)\u001b[0m\n\u001b[1;32m     32\u001b[0m         \u001b[0mflow\u001b[0m \u001b[0;34m=\u001b[0m \u001b[0mcv2\u001b[0m\u001b[0;34m.\u001b[0m\u001b[0mcalcOpticalFlowFarneback\u001b[0m\u001b[0;34m(\u001b[0m\u001b[0mprev_gray\u001b[0m\u001b[0;34m,\u001b[0m \u001b[0mgray\u001b[0m\u001b[0;34m,\u001b[0m \u001b[0;32mNone\u001b[0m\u001b[0;34m,\u001b[0m \u001b[0;36m0.5\u001b[0m\u001b[0;34m,\u001b[0m \u001b[0;36m3\u001b[0m\u001b[0;34m,\u001b[0m \u001b[0;36m100\u001b[0m\u001b[0;34m,\u001b[0m \u001b[0;36m3\u001b[0m\u001b[0;34m,\u001b[0m \u001b[0;36m7\u001b[0m\u001b[0;34m,\u001b[0m \u001b[0;36m1.1\u001b[0m\u001b[0;34m,\u001b[0m \u001b[0;36m0\u001b[0m\u001b[0;34m)\u001b[0m\u001b[0;34m\u001b[0m\u001b[0;34m\u001b[0m\u001b[0m\n\u001b[1;32m     33\u001b[0m       \u001b[0;32melse\u001b[0m\u001b[0;34m:\u001b[0m\u001b[0;34m\u001b[0m\u001b[0;34m\u001b[0m\u001b[0m\n\u001b[0;32m---> 34\u001b[0;31m         \u001b[0mflow\u001b[0m \u001b[0;34m=\u001b[0m \u001b[0mcv2\u001b[0m\u001b[0;34m.\u001b[0m\u001b[0mcalcOpticalFlowFarneback\u001b[0m\u001b[0;34m(\u001b[0m\u001b[0mprev_gray\u001b[0m\u001b[0;34m,\u001b[0m \u001b[0mgray\u001b[0m\u001b[0;34m,\u001b[0m \u001b[0mflow\u001b[0m\u001b[0;34m,\u001b[0m \u001b[0;36m0.5\u001b[0m\u001b[0;34m,\u001b[0m \u001b[0;36m3\u001b[0m\u001b[0;34m,\u001b[0m \u001b[0;36m100\u001b[0m\u001b[0;34m,\u001b[0m \u001b[0;36m3\u001b[0m\u001b[0;34m,\u001b[0m \u001b[0;36m7\u001b[0m\u001b[0;34m,\u001b[0m \u001b[0;36m1.1\u001b[0m\u001b[0;34m,\u001b[0m \u001b[0;36m0\u001b[0m\u001b[0;34m)\u001b[0m\u001b[0;34m\u001b[0m\u001b[0;34m\u001b[0m\u001b[0m\n\u001b[0m\u001b[1;32m     35\u001b[0m \u001b[0;34m\u001b[0m\u001b[0m\n\u001b[1;32m     36\u001b[0m       \u001b[0;31m# Computes the magnitude and angle of the 2D vectors\u001b[0m\u001b[0;34m\u001b[0m\u001b[0;34m\u001b[0m\u001b[0;34m\u001b[0m\u001b[0m\n",
      "\u001b[0;31mKeyboardInterrupt\u001b[0m: "
     ]
    }
   ],
   "source": [
    "# capturing optical flow data\n",
    "for video in tqdm_notebook(os.listdir('data/')):\n",
    "    captureOpticalFlow(video.split('.')[0], 'data/' + video)\n",
    "! sudo rm -r Frames*"
   ]
  },
  {
   "cell_type": "code",
   "execution_count": 10,
   "metadata": {
    "colab": {
     "base_uri": "https://localhost:8080/",
     "height": 51
    },
    "colab_type": "code",
    "id": "mWgrgyY4HLXp",
    "outputId": "22197fd1-a20e-4733-fbe5-b1ab8c1f5e69"
   },
   "outputs": [
    {
     "name": "stdout",
     "output_type": "stream",
     "text": [
      "Programm run into OpenCV(4.2.0) /io/opencv/modules/imgproc/src/resize.cpp:4045: error: (-215:Assertion failed) !ssize.empty() in function 'resize'\n",
      "\n"
     ]
    }
   ],
   "source": [
    "video = 'IMG_8266.MOV'\n",
    "captureOpticalFlow(video.split('.')[0], 'data/' + video)\n",
    "! sudo rm -r Frames*"
   ]
  },
  {
   "cell_type": "code",
   "execution_count": 0,
   "metadata": {
    "colab": {},
    "colab_type": "code",
    "id": "DBRCIEd3fAS-"
   },
   "outputs": [],
   "source": []
  }
 ],
 "metadata": {
  "accelerator": "GPU",
  "colab": {
   "name": "OptflowExtraction.ipynb",
   "provenance": []
  },
  "kernelspec": {
   "display_name": "Python 3",
   "language": "python",
   "name": "python3"
  },
  "language_info": {
   "codemirror_mode": {
    "name": "ipython",
    "version": 3
   },
   "file_extension": ".py",
   "mimetype": "text/x-python",
   "name": "python",
   "nbconvert_exporter": "python",
   "pygments_lexer": "ipython3",
   "version": "3.6.10"
  },
  "widgets": {
   "application/vnd.jupyter.widget-state+json": {
    "52cf8fcb91164fc9b79b8a2dffe6b8d1": {
     "model_module": "@jupyter-widgets/controls",
     "model_name": "DescriptionStyleModel",
     "state": {
      "_model_module": "@jupyter-widgets/controls",
      "_model_module_version": "1.5.0",
      "_model_name": "DescriptionStyleModel",
      "_view_count": null,
      "_view_module": "@jupyter-widgets/base",
      "_view_module_version": "1.2.0",
      "_view_name": "StyleView",
      "description_width": ""
     }
    },
    "8663bf19b5c745be957d053556ca7d54": {
     "model_module": "@jupyter-widgets/controls",
     "model_name": "HTMLModel",
     "state": {
      "_dom_classes": [],
      "_model_module": "@jupyter-widgets/controls",
      "_model_module_version": "1.5.0",
      "_model_name": "HTMLModel",
      "_view_count": null,
      "_view_module": "@jupyter-widgets/controls",
      "_view_module_version": "1.5.0",
      "_view_name": "HTMLView",
      "description": "",
      "description_tooltip": null,
      "layout": "IPY_MODEL_f6ea77e6dc0f4e8285b816b51fb8b97f",
      "placeholder": "​",
      "style": "IPY_MODEL_52cf8fcb91164fc9b79b8a2dffe6b8d1",
      "value": " 0/5 [00:01&lt;?, ?it/s]"
     }
    },
    "876d009743f84b45b618d755ef7e5c01": {
     "model_module": "@jupyter-widgets/base",
     "model_name": "LayoutModel",
     "state": {
      "_model_module": "@jupyter-widgets/base",
      "_model_module_version": "1.2.0",
      "_model_name": "LayoutModel",
      "_view_count": null,
      "_view_module": "@jupyter-widgets/base",
      "_view_module_version": "1.2.0",
      "_view_name": "LayoutView",
      "align_content": null,
      "align_items": null,
      "align_self": null,
      "border": null,
      "bottom": null,
      "display": null,
      "flex": null,
      "flex_flow": null,
      "grid_area": null,
      "grid_auto_columns": null,
      "grid_auto_flow": null,
      "grid_auto_rows": null,
      "grid_column": null,
      "grid_gap": null,
      "grid_row": null,
      "grid_template_areas": null,
      "grid_template_columns": null,
      "grid_template_rows": null,
      "height": null,
      "justify_content": null,
      "justify_items": null,
      "left": null,
      "margin": null,
      "max_height": null,
      "max_width": null,
      "min_height": null,
      "min_width": null,
      "object_fit": null,
      "object_position": null,
      "order": null,
      "overflow": null,
      "overflow_x": null,
      "overflow_y": null,
      "padding": null,
      "right": null,
      "top": null,
      "visibility": null,
      "width": null
     }
    },
    "9360ac2edb0743db92b0c6c17daa74ae": {
     "model_module": "@jupyter-widgets/controls",
     "model_name": "HBoxModel",
     "state": {
      "_dom_classes": [],
      "_model_module": "@jupyter-widgets/controls",
      "_model_module_version": "1.5.0",
      "_model_name": "HBoxModel",
      "_view_count": null,
      "_view_module": "@jupyter-widgets/controls",
      "_view_module_version": "1.5.0",
      "_view_name": "HBoxView",
      "box_style": "",
      "children": [
       "IPY_MODEL_a7acf6f46e224949a642c27437b24b80",
       "IPY_MODEL_8663bf19b5c745be957d053556ca7d54"
      ],
      "layout": "IPY_MODEL_876d009743f84b45b618d755ef7e5c01"
     }
    },
    "a7acf6f46e224949a642c27437b24b80": {
     "model_module": "@jupyter-widgets/controls",
     "model_name": "IntProgressModel",
     "state": {
      "_dom_classes": [],
      "_model_module": "@jupyter-widgets/controls",
      "_model_module_version": "1.5.0",
      "_model_name": "IntProgressModel",
      "_view_count": null,
      "_view_module": "@jupyter-widgets/controls",
      "_view_module_version": "1.5.0",
      "_view_name": "ProgressView",
      "bar_style": "danger",
      "description": "  0%",
      "description_tooltip": null,
      "layout": "IPY_MODEL_afbbabaded58439d91d7c0ad4436f975",
      "max": 5,
      "min": 0,
      "orientation": "horizontal",
      "style": "IPY_MODEL_e355f59726d2411199697116afbbffd3",
      "value": 0
     }
    },
    "afbbabaded58439d91d7c0ad4436f975": {
     "model_module": "@jupyter-widgets/base",
     "model_name": "LayoutModel",
     "state": {
      "_model_module": "@jupyter-widgets/base",
      "_model_module_version": "1.2.0",
      "_model_name": "LayoutModel",
      "_view_count": null,
      "_view_module": "@jupyter-widgets/base",
      "_view_module_version": "1.2.0",
      "_view_name": "LayoutView",
      "align_content": null,
      "align_items": null,
      "align_self": null,
      "border": null,
      "bottom": null,
      "display": null,
      "flex": null,
      "flex_flow": null,
      "grid_area": null,
      "grid_auto_columns": null,
      "grid_auto_flow": null,
      "grid_auto_rows": null,
      "grid_column": null,
      "grid_gap": null,
      "grid_row": null,
      "grid_template_areas": null,
      "grid_template_columns": null,
      "grid_template_rows": null,
      "height": null,
      "justify_content": null,
      "justify_items": null,
      "left": null,
      "margin": null,
      "max_height": null,
      "max_width": null,
      "min_height": null,
      "min_width": null,
      "object_fit": null,
      "object_position": null,
      "order": null,
      "overflow": null,
      "overflow_x": null,
      "overflow_y": null,
      "padding": null,
      "right": null,
      "top": null,
      "visibility": null,
      "width": null
     }
    },
    "e355f59726d2411199697116afbbffd3": {
     "model_module": "@jupyter-widgets/controls",
     "model_name": "ProgressStyleModel",
     "state": {
      "_model_module": "@jupyter-widgets/controls",
      "_model_module_version": "1.5.0",
      "_model_name": "ProgressStyleModel",
      "_view_count": null,
      "_view_module": "@jupyter-widgets/base",
      "_view_module_version": "1.2.0",
      "_view_name": "StyleView",
      "bar_color": null,
      "description_width": "initial"
     }
    },
    "f6ea77e6dc0f4e8285b816b51fb8b97f": {
     "model_module": "@jupyter-widgets/base",
     "model_name": "LayoutModel",
     "state": {
      "_model_module": "@jupyter-widgets/base",
      "_model_module_version": "1.2.0",
      "_model_name": "LayoutModel",
      "_view_count": null,
      "_view_module": "@jupyter-widgets/base",
      "_view_module_version": "1.2.0",
      "_view_name": "LayoutView",
      "align_content": null,
      "align_items": null,
      "align_self": null,
      "border": null,
      "bottom": null,
      "display": null,
      "flex": null,
      "flex_flow": null,
      "grid_area": null,
      "grid_auto_columns": null,
      "grid_auto_flow": null,
      "grid_auto_rows": null,
      "grid_column": null,
      "grid_gap": null,
      "grid_row": null,
      "grid_template_areas": null,
      "grid_template_columns": null,
      "grid_template_rows": null,
      "height": null,
      "justify_content": null,
      "justify_items": null,
      "left": null,
      "margin": null,
      "max_height": null,
      "max_width": null,
      "min_height": null,
      "min_width": null,
      "object_fit": null,
      "object_position": null,
      "order": null,
      "overflow": null,
      "overflow_x": null,
      "overflow_y": null,
      "padding": null,
      "right": null,
      "top": null,
      "visibility": null,
      "width": null
     }
    }
   }
  }
 },
 "nbformat": 4,
 "nbformat_minor": 1
}
